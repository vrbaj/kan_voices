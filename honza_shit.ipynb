{
 "cells": [
  {
   "cell_type": "code",
   "id": "initial_id",
   "metadata": {
    "collapsed": true,
    "ExecuteTime": {
     "end_time": "2024-06-12T05:39:48.070665Z",
     "start_time": "2024-06-12T05:39:48.055751Z"
    }
   },
   "source": [
    "from pathlib import Path\n",
    "import librosa"
   ],
   "outputs": [],
   "execution_count": 25
  },
  {
   "metadata": {},
   "cell_type": "markdown",
   "source": "# Analyze trimmed wavs",
   "id": "7bbebb115506289c"
  },
  {
   "metadata": {
    "ExecuteTime": {
     "end_time": "2024-06-12T05:39:48.153483Z",
     "start_time": "2024-06-12T05:39:48.075651Z"
    }
   },
   "cell_type": "code",
   "source": [
    "trimmed_files = Path(\".\").joinpath(\"trimmed_files\")\n",
    "print(f\"trimmed files ... {len(list(trimmed_files.rglob(\"*.wav\")))}\")\n",
    "original_files = Path(\".\").joinpath(\"datasets\")\n",
    "print(f\"original files ... {len(list(original_files.glob(\"**/*/*.wav\")))}\")"
   ],
   "id": "7e2655b04df56b5f",
   "outputs": [
    {
     "name": "stdout",
     "output_type": "stream",
     "text": [
      "trimmed files ... 2041\n",
      "original files ... 2041\n"
     ]
    }
   ],
   "execution_count": 26
  },
  {
   "metadata": {
    "ExecuteTime": {
     "end_time": "2024-06-12T05:39:51.647488Z",
     "start_time": "2024-06-12T05:39:48.158464Z"
    }
   },
   "cell_type": "code",
   "source": [
    "durations = []\n",
    "for audio_file in trimmed_files.glob(\"**/*/*.wav\"):\n",
    "    audio_data, sampling_rate = librosa.load(audio_file, sr=None)\n",
    "    duration = librosa.get_duration(y=audio_data, sr=sampling_rate)\n",
    "    durations.append(duration)\n",
    "print(f\"Shortest trimmed audio file: {min(durations)}\")\n",
    "\n",
    "durations = []\n",
    "for audio_file in original_files.glob(\"**/*/*.wav\"):\n",
    "    audio_data, sampling_rate = librosa.load(audio_file, sr=None)\n",
    "    duration = librosa.get_duration(y=audio_data, sr=sampling_rate)\n",
    "    durations.append(duration)\n",
    "print(f\"Shortest original audio file: {min(durations)}\")\n"
   ],
   "id": "d03c1bab87eb2a2e",
   "outputs": [
    {
     "name": "stdout",
     "output_type": "stream",
     "text": [
      "Shortest trimmed audio file: 0.273\n",
      "Shortest original audio file: 0.3933\n"
     ]
    }
   ],
   "execution_count": 27
  },
  {
   "metadata": {},
   "cell_type": "markdown",
   "source": "### Get time difference between trimmed and original",
   "id": "588b992269687634"
  },
  {
   "metadata": {
    "ExecuteTime": {
     "end_time": "2024-06-12T05:39:54.180309Z",
     "start_time": "2024-06-12T05:39:51.651509Z"
    }
   },
   "cell_type": "code",
   "source": [
    "trimmed_files = sorted(trimmed_files.glob(\"**/*/*.wav\"))\n",
    "original_files = sorted(original_files.glob(\"**/*/*.wav\"))\n",
    "differences = []\n",
    "for trimmed, original in zip(trimmed_files, original_files):\n",
    "    audio_data_trimmed, sampling_rate = librosa.load(trimmed, sr=None)\n",
    "    trimmed_len = librosa.get_duration(y=audio_data_trimmed, sr=sampling_rate)\n",
    "    \n",
    "    audio_data_original, sampling_rate = librosa.load(original, sr=None)\n",
    "    original_len = librosa.get_duration(y=audio_data_original, sr=sampling_rate)\n",
    "    differences.append(original_len-trimmed_len)\n",
    "\n",
    "print(f\"Max diff: {max(differences)}, min diff: {min(differences)}\")"
   ],
   "id": "ae522b4ca007007c",
   "outputs": [
    {
     "name": "stdout",
     "output_type": "stream",
     "text": [
      "Max diff: 0.21183999999999997, min diff: 0.0\n"
     ]
    }
   ],
   "execution_count": 28
  }
 ],
 "metadata": {
  "kernelspec": {
   "display_name": "Python 3",
   "language": "python",
   "name": "python3"
  },
  "language_info": {
   "codemirror_mode": {
    "name": "ipython",
    "version": 2
   },
   "file_extension": ".py",
   "mimetype": "text/x-python",
   "name": "python",
   "nbconvert_exporter": "python",
   "pygments_lexer": "ipython2",
   "version": "2.7.6"
  }
 },
 "nbformat": 4,
 "nbformat_minor": 5
}
